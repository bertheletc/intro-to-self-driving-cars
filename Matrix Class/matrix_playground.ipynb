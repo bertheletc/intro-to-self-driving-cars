{
 "cells": [
  {
   "cell_type": "code",
   "execution_count": 1,
   "metadata": {},
   "outputs": [],
   "source": [
    "# Run this cell but don't modify it.\n",
    "\n",
    "%load_ext autoreload\n",
    "%autoreload 2\n",
    "from matrix import Matrix, zeroes, identity"
   ]
  },
  {
   "cell_type": "code",
   "execution_count": null,
   "metadata": {},
   "outputs": [],
   "source": [
    "# some functionality already exists... here's a demo\n",
    "\n",
    "m1 = Matrix([\n",
    "    [1, 2],\n",
    "    [3, 4]\n",
    "])\n",
    "\n",
    "m2 = Matrix([\n",
    "    [2, 5],\n",
    "    [6, 1]\n",
    "])\n",
    "\n",
    "print(\"m1 is\")\n",
    "print(m1)\n",
    "\n",
    "print(\"m2 is\")\n",
    "print(m2)\n",
    "\n",
    "print(\"we've also provided you with a function called zeros\")\n",
    "print(\"here's what happens when you call zeros(4,2)\")\n",
    "print(zeroes(4,2))\n",
    "\n",
    "print(\"we've also provided you with a function called identity\")\n",
    "print(\"here's identity(3)\")\n",
    "print(identity(3))\n",
    "\n",
    "print(\"but not everything works yet!\")\n",
    "print(\"for example, matrix addition...\")\n",
    "print(\"run the cell below to see what happens when we try...\")"
   ]
  },
  {
   "cell_type": "code",
   "execution_count": null,
   "metadata": {},
   "outputs": [],
   "source": [
    "m1 = Matrix([\n",
    "    [1, 2],\n",
    "    [3, 4]\n",
    "])\n",
    "\n",
    "m2 = Matrix([\n",
    "    [2, 5],\n",
    "    [6, 1]\n",
    "])\n",
    "\n",
    "m3 = m1 + m2\n",
    "print(\"m1 + m2 is\")\n",
    "print(m3)"
   ]
  },
  {
   "cell_type": "code",
   "execution_count": null,
   "metadata": {},
   "outputs": [],
   "source": [
    "a,abc = zip(m1.g,m2.g)\n",
    "\n",
    "print (a)\n",
    "print (abc)\n"
   ]
  },
  {
   "cell_type": "code",
   "execution_count": 2,
   "metadata": {
    "scrolled": true
   },
   "outputs": [
    {
     "name": "stdout",
     "output_type": "stream",
     "text": [
      "Congratulations! All tests pass. Your Matrix class is working as expected.\n"
     ]
    }
   ],
   "source": [
    "# Try running this code. You should get an assertion error. \n",
    "# You will continue to get assertion errors until all the \n",
    "# methods in matrix.py are correctly implemented.\n",
    "\n",
    "# You can open matrix.py by selecting File > Open... \n",
    "# and then selecting matrix.py\n",
    "\n",
    "import test"
   ]
  },
  {
   "cell_type": "code",
   "execution_count": null,
   "metadata": {},
   "outputs": [],
   "source": [
    "def equal(m1, m2):\n",
    "    if len(m1.g) != len(m2.g): return False\n",
    "    if len(m1.g[0]) != len(m2.g[0]): return False\n",
    "    for r1, r2 in zip(m1.g, m2.g):\n",
    "        for v1, v2 in zip(r1, r2):\n",
    "            if abs(v1 - v2) > 0.0001:\n",
    "                pdb.set_trace()\n",
    "                return False\n",
    "    return True"
   ]
  },
  {
   "cell_type": "code",
   "execution_count": null,
   "metadata": {},
   "outputs": [],
   "source": [
    "I2 = Matrix([\n",
    "        [1, 0],\n",
    "        [0, 1]\n",
    "        ])\n",
    "I2_neg = Matrix([\n",
    "        [-1, 0],\n",
    "        [0, -1]\n",
    "        ])\n",
    "\n",
    "zero = Matrix([\n",
    "        [0,0],\n",
    "        [0,0]\n",
    "        ])"
   ]
  },
  {
   "cell_type": "code",
   "execution_count": null,
   "metadata": {},
   "outputs": [],
   "source": [
    "a1,a2 = zip(I2.g,I2_neg.g)\n",
    "\n",
    "print (a1)\n",
    "print (a2)"
   ]
  },
  {
   "cell_type": "code",
   "execution_count": null,
   "metadata": {},
   "outputs": [],
   "source": [
    "b1,b2 = zip(a1,a2)\n",
    "\n",
    "print (b1[0])\n",
    "print (b2)"
   ]
  },
  {
   "cell_type": "code",
   "execution_count": null,
   "metadata": {},
   "outputs": [],
   "source": [
    "I2 + I2_neg"
   ]
  },
  {
   "cell_type": "code",
   "execution_count": null,
   "metadata": {},
   "outputs": [],
   "source": [
    "zero"
   ]
  },
  {
   "cell_type": "code",
   "execution_count": null,
   "metadata": {},
   "outputs": [],
   "source": [
    "equal(I2 + I2_neg, zero)"
   ]
  },
  {
   "cell_type": "code",
   "execution_count": null,
   "metadata": {},
   "outputs": [],
   "source": [
    "# open matrix.py (File > Open...) and start\n",
    "# implementing matrix methods! \n",
    "\n",
    "# when your code passes all the tests you can submit by \n",
    "# pressing the SUBMIT button in the lower right corner \n",
    "# of this page."
   ]
  }
 ],
 "metadata": {
  "kernelspec": {
   "display_name": "Python 3",
   "language": "python",
   "name": "python3"
  },
  "language_info": {
   "codemirror_mode": {
    "name": "ipython",
    "version": 3
   },
   "file_extension": ".py",
   "mimetype": "text/x-python",
   "name": "python",
   "nbconvert_exporter": "python",
   "pygments_lexer": "ipython3",
   "version": "3.6.3"
  }
 },
 "nbformat": 4,
 "nbformat_minor": 2
}
